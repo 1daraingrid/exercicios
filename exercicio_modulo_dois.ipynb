{
  "nbformat": 4,
  "nbformat_minor": 0,
  "metadata": {
    "colab": {
      "name": "exercicio_modulo_dois.ipynb",
      "provenance": [],
      "authorship_tag": "ABX9TyMC2JL5iOeNNa5bcqsI3fgx",
      "include_colab_link": true
    },
    "kernelspec": {
      "name": "python3",
      "display_name": "Python 3"
    },
    "language_info": {
      "name": "python"
    }
  },
  "cells": [
    {
      "cell_type": "markdown",
      "metadata": {
        "id": "view-in-github",
        "colab_type": "text"
      },
      "source": [
        "<a href=\"https://colab.research.google.com/github/1daraingrid/exercicios/blob/main/exercicio_modulo_dois.ipynb\" target=\"_parent\"><img src=\"https://colab.research.google.com/assets/colab-badge.svg\" alt=\"Open In Colab\"/></a>"
      ]
    },
    {
      "cell_type": "code",
      "metadata": {
        "colab": {
          "base_uri": "https://localhost:8080/"
        },
        "id": "4if7IIgxcHHZ",
        "outputId": "f11de3f7-2b53-4137-c792-7db355f7a3fb"
      },
      "source": [
        "# Exercicio do módulo dois\n",
        "# 1. Lista chamada filmes = [...]\n",
        "\n",
        "filmes = ['um sonho de liberdade', 'batman: o cavaleiro das trevas', 'interestelar', 'o lobo de wall street', \n",
        "          'titanic', 'coringa', 'vingadores: ultimato', 'harry potter e a pedra filosofal', 'parasita', '007 - operacao skyfall']\n",
        "print(filmes)"
      ],
      "execution_count": null,
      "outputs": [
        {
          "output_type": "stream",
          "name": "stdout",
          "text": [
            "['um sonho de liberdade', 'batman: o cavaleiro das trevas', 'interestelar', 'o lobo de wall street', 'titanic', 'coringa', 'vingadores: ultimato', 'harry potter e a pedra filosofal', 'parasita', '007 - operacao skyfall']\n"
          ]
        }
      ]
    },
    {
      "cell_type": "code",
      "metadata": {
        "colab": {
          "base_uri": "https://localhost:8080/"
        },
        "id": "6e_1se7yfqiS",
        "outputId": "2592cc8a-2702-4f2c-8ad8-a2d18b008467"
      },
      "source": [
        "# simule a movimentação de ranking utilizando metodos insert e pop\n",
        "filme = filmes.pop(1)\n",
        "print(filme)"
      ],
      "execution_count": null,
      "outputs": [
        {
          "output_type": "stream",
          "name": "stdout",
          "text": [
            "batman: o cavaleiro das trevas\n"
          ]
        }
      ]
    },
    {
      "cell_type": "code",
      "metadata": {
        "colab": {
          "base_uri": "https://localhost:8080/"
        },
        "id": "RcghmKjbm3ey",
        "outputId": "d5143fb6-c227-4339-e27a-6a708f45aa64"
      },
      "source": [
        "filmes.insert(0, filme)\n",
        "print(filmes)"
      ],
      "execution_count": null,
      "outputs": [
        {
          "output_type": "stream",
          "name": "stdout",
          "text": [
            "['batman: o cavaleiro das trevas', 'um sonho de liberdade', 'interestelar', 'o lobo de wall street', 'titanic', 'coringa', 'vingadores: ultimato', 'harry potter e a pedra filosofal', 'parasita', '007 - operacao skyfall']\n"
          ]
        }
      ]
    },
    {
      "cell_type": "code",
      "metadata": {
        "colab": {
          "base_uri": "https://localhost:8080/"
        },
        "id": "4hBLEWImnevV",
        "outputId": "da45e518-837a-4006-8157-17b24b422a21"
      },
      "source": [
        "# 2. Conjuntos\n",
        "\n",
        "filmes_duplicados = ['um sonho de liberdade', 'batman: o cavaleiro das trevas', 'interestelar', 'o lobo de wall street', \n",
        "          'titanic', 'coringa', 'vingadores: ultimato', 'harry potter e a pedra filosofal', 'parasita', '007 - operacao skyfall',\n",
        "           'harry potter e a pedra filosofal', 'parasita', '007 - operacao skyfall']\n",
        "filmes = list(set(filmes_duplicados))\n",
        "print(filmes)"
      ],
      "execution_count": null,
      "outputs": [
        {
          "output_type": "stream",
          "name": "stdout",
          "text": [
            "['parasita', 'o lobo de wall street', 'coringa', '007 - operacao skyfall', 'vingadores: ultimato', 'um sonho de liberdade', 'interestelar', 'batman: o cavaleiro das trevas', 'harry potter e a pedra filosofal', 'titanic']\n"
          ]
        }
      ]
    },
    {
      "cell_type": "code",
      "metadata": {
        "colab": {
          "base_uri": "https://localhost:8080/"
        },
        "id": "OL1b-2wVvojS",
        "outputId": "617d1f20-4dcc-45a1-c410-4106657575d5"
      },
      "source": [
        "# 3. Dicionário\n",
        "filmes = [\n",
        "    {'nome': 'um sonho de liberdade', 'ano': 1994, 'sinopse': 'Dois homens presos se reúnem ao longo de vários anos, encontrando consolo e eventual redenção através de atos de decência comum.'},\n",
        "    {'nome': 'batman: o cavaleiro das trevas', 'ano': 2008, 'sinopse': 'Quando a ameaça conhecida como O Coringa surge de seu passado, causa estragos e caos nas pessoas de Gotham. O Cavaleiro das Trevas deve aceitar um dos maiores testes para combater a injustiça.'},\n",
        "    {'nome': 'interestelar', 'ano': 2014, 'sinopse': 'Uma equipe de exploradores viaja através de um buraco de minhoca no espaço, na tentativa de garantir a sobrevivência da humanidade.'},\n",
        "    {'nome': 'o lobo de wall street', 'ano': 2013, 'sinopse': 'Baseada na verdadeira história de Jordan Belfort, desde sua ascensão como corretor de valores até a sua queda e envolvimento no crime e corrupção com o governo.'},\n",
        "    {'nome': 'titanic', 'ano': 1997, 'sinopse': 'Uma aristocrata de dezessete anos se apaixona por um artista gentil mas pobre a bordo do luxuoso e desafortunado Titanic.'},\n",
        "    {'nome': 'coringa', 'ano': 2019, 'sinopse': 'Um comediante falido enlouquece e se torna um assassino psicopata.'},\n",
        "    {'nome': 'vingadores: ultimato', 'ano': 2019, 'sinopse': 'Após os eventos devastadores de Vingadores: Guerra Infinita , o universo está em ruínas, e com a ajuda de aliados os Vingadores se reúnem para desfazer as ações de Thanos e restaurar a ordem.'},\n",
        "    {'nome': 'harry potter', 'ano': 2001, 'sinopse': 'Uma criança órfã se enrolla em uma escola de magia, onde ele aprende a verdade sobre si mesmo, sua família e o terrível mal que se esconde no mundo mágico.'},\n",
        "    {'nome': 'parasita', 'ano': 2019, 'sinopse': 'Desempregados, a família de Ki-taek (Song Kang-ho) nutre um interesse peculiar pela família Park até que eles se veem presos em um inesperado incidente.'},\n",
        "    {'nome': '007 - operacao skyfall', 'ano': 2012, 'sinopse': 'Seu passado persegue M, testando a lealdade de 007 a ela. O MI6 é atacado e 007 deve encontrar e destruir a fonte da ameaça, a qualquer custo.'},\n",
        "]\n",
        "print(filmes)"
      ],
      "execution_count": null,
      "outputs": [
        {
          "output_type": "stream",
          "name": "stdout",
          "text": [
            "[{'nome': 'um sonho de liberdade', 'ano': 1994, 'sinopse': 'Dois homens presos se reúnem ao longo de vários anos, encontrando consolo e eventual redenção através de atos de decência comum.'}, {'nome': 'batman: o cavaleiro das trevas', 'ano': 2008, 'sinopse': 'Quando a ameaça conhecida como O Coringa surge de seu passado, causa estragos e caos nas pessoas de Gotham. O Cavaleiro das Trevas deve aceitar um dos maiores testes para combater a injustiça.'}, {'nome': 'interestelar', 'ano': 2014, 'sinopse': 'Uma equipe de exploradores viaja através de um buraco de minhoca no espaço, na tentativa de garantir a sobrevivência da humanidade.'}, {'nome': 'o lobo de wall street', 'ano': 2013, 'sinopse': 'Baseada na verdadeira história de Jordan Belfort, desde sua ascensão como corretor de valores até a sua queda e envolvimento no crime e corrupção com o governo.'}, {'nome': 'titanic', 'ano': 1997, 'sinopse': 'Uma aristocrata de dezessete anos se apaixona por um artista gentil mas pobre a bordo do luxuoso e desafortunado Titanic.'}, {'nome': 'coringa', 'ano': 2019, 'sinopse': 'Um comediante falido enlouquece e se torna um assassino psicopata.'}, {'nome': 'vingadores: ultimato', 'ano': 2019, 'sinopse': 'Após os eventos devastadores de Vingadores: Guerra Infinita , o universo está em ruínas, e com a ajuda de aliados os Vingadores se reúnem para desfazer as ações de Thanos e restaurar a ordem.'}, {'nome': 'harry potter', 'ano': 2001, 'sinopse': 'Uma criança órfã se enrolla em uma escola de magia, onde ele aprende a verdade sobre si mesmo, sua família e o terrível mal que se esconde no mundo mágico.'}, {'nome': 'parasita', 'ano': 2019, 'sinopse': 'Desempregados, a família de Ki-taek (Song Kang-ho) nutre um interesse peculiar pela família Park até que eles se veem presos em um inesperado incidente.'}, {'nome': '007 - operacao skyfall', 'ano': 2012, 'sinopse': 'Seu passado persegue M, testando a lealdade de 007 a ela. O MI6 é atacado e 007 deve encontrar e destruir a fonte da ameaça, a qualquer custo.'}]\n"
          ]
        }
      ]
    },
    {
      "cell_type": "code",
      "metadata": {
        "colab": {
          "base_uri": "https://localhost:8080/"
        },
        "id": "C_wzbUPrF62O",
        "outputId": "8e64c137-b85c-4d90-b309-017e60c45688"
      },
      "source": [
        "filme = filmes.pop(1)\n",
        "print(filme)"
      ],
      "execution_count": null,
      "outputs": [
        {
          "output_type": "stream",
          "name": "stdout",
          "text": [
            "{'nome': 'batman: o cavaleiro das trevas', 'ano': 2008, 'sinopse': 'Quando a ameaça conhecida como O Coringa surge de seu passado, causa estragos e caos nas pessoas de Gotham. O Cavaleiro das Trevas deve aceitar um dos maiores testes para combater a injustiça.'}\n"
          ]
        }
      ]
    },
    {
      "cell_type": "code",
      "metadata": {
        "colab": {
          "base_uri": "https://localhost:8080/"
        },
        "id": "Gz2AyE8dGT-o",
        "outputId": "59f61b1f-faae-4f17-e033-f4b7867854f7"
      },
      "source": [
        "filmes.insert(0, filme)\n",
        "print(filmes)"
      ],
      "execution_count": null,
      "outputs": [
        {
          "output_type": "stream",
          "name": "stdout",
          "text": [
            "[{'nome': 'batman: o cavaleiro das trevas', 'ano': 2008, 'sinopse': 'Quando a ameaça conhecida como O Coringa surge de seu passado, causa estragos e caos nas pessoas de Gotham. O Cavaleiro das Trevas deve aceitar um dos maiores testes para combater a injustiça.'}, {'nome': 'um sonho de liberdade', 'ano': 1994, 'sinopse': 'Dois homens presos se reúnem ao longo de vários anos, encontrando consolo e eventual redenção através de atos de decência comum.'}, {'nome': 'interestelar', 'ano': 2014, 'sinopse': 'Uma equipe de exploradores viaja através de um buraco de minhoca no espaço, na tentativa de garantir a sobrevivência da humanidade.'}, {'nome': 'o lobo de wall street', 'ano': 2013, 'sinopse': 'Baseada na verdadeira história de Jordan Belfort, desde sua ascensão como corretor de valores até a sua queda e envolvimento no crime e corrupção com o governo.'}, {'nome': 'titanic', 'ano': 1997, 'sinopse': 'Uma aristocrata de dezessete anos se apaixona por um artista gentil mas pobre a bordo do luxuoso e desafortunado Titanic.'}, {'nome': 'coringa', 'ano': 2019, 'sinopse': 'Um comediante falido enlouquece e se torna um assassino psicopata.'}, {'nome': 'vingadores: ultimato', 'ano': 2019, 'sinopse': 'Após os eventos devastadores de Vingadores: Guerra Infinita , o universo está em ruínas, e com a ajuda de aliados os Vingadores se reúnem para desfazer as ações de Thanos e restaurar a ordem.'}, {'nome': 'harry potter', 'ano': 2001, 'sinopse': 'Uma criança órfã se enrolla em uma escola de magia, onde ele aprende a verdade sobre si mesmo, sua família e o terrível mal que se esconde no mundo mágico.'}, {'nome': 'parasita', 'ano': 2019, 'sinopse': 'Desempregados, a família de Ki-taek (Song Kang-ho) nutre um interesse peculiar pela família Park até que eles se veem presos em um inesperado incidente.'}, {'nome': '007 - operacao skyfall', 'ano': 2012, 'sinopse': 'Seu passado persegue M, testando a lealdade de 007 a ela. O MI6 é atacado e 007 deve encontrar e destruir a fonte da ameaça, a qualquer custo.'}]\n"
          ]
        }
      ]
    }
  ]
}