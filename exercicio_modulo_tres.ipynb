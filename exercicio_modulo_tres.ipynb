{
  "nbformat": 4,
  "nbformat_minor": 0,
  "metadata": {
    "colab": {
      "name": "exercicio_modulo_tres.ipynb",
      "provenance": [],
      "authorship_tag": "ABX9TyMGxdux8ydtOOi0Nynxq/Nn",
      "include_colab_link": true
    },
    "kernelspec": {
      "name": "python3",
      "display_name": "Python 3"
    },
    "language_info": {
      "name": "python"
    }
  },
  "cells": [
    {
      "cell_type": "markdown",
      "metadata": {
        "id": "view-in-github",
        "colab_type": "text"
      },
      "source": [
        "<a href=\"https://colab.research.google.com/github/1daraingrid/exercicios/blob/main/exercicio_modulo_tres.ipynb\" target=\"_parent\"><img src=\"https://colab.research.google.com/assets/colab-badge.svg\" alt=\"Open In Colab\"/></a>"
      ]
    },
    {
      "cell_type": "code",
      "metadata": {
        "id": "HfC2-G_KOwdh"
      },
      "source": [
        "# Exercício:\n",
        "\n",
        "propaganda_online = [\n",
        "                     {'tempo_gasto_site': 68.95, 'idade': 35, 'renda_area': 61833.90,\n",
        "                      'tempo_gasto_internet': 256.09, 'cidade': 'Wrightburgh',\n",
        "                      'pais': 'Tunisia', 'clicou_no_ad': 0\n",
        "                      },\n",
        "                     {'tempo_gasto_site': 80.23, 'idade': 31, 'renda_area': 68441.85,\n",
        "                      'tempo_gasto_internet': 193.77, 'cidade': 'West Jodi',\n",
        "                      'pais': 'Nauru', 'clicou_no_ad': 0   \n",
        "                     },\n",
        "                     {'tempo_gasto_site': 69.47, 'idade': 26, 'renda_area': 59785.94,\n",
        "                      'tempo_gasto_internet': 225.5, 'cidade': 'Davidton',\n",
        "                      'pais': 'San Marino', 'clicou_no_ad': 0\n",
        "                     },\n",
        "                     {'tempo_gasto_site': 68.37, 'idade': 35, 'renda_area': 73889.90,\n",
        "                      'tempo_gasto_internet': 225.58, 'cidade': 'South Manuel',\n",
        "                      'pais': 'IceLand', 'clicou_no_ad': 0 \n",
        "                      },\n",
        "                     {'tempo_gasto_site': 88.91, 'idade': 33, 'renda_area': 53852.85,\n",
        "                      'tempo_gasto_internet': 208.36, 'cidade': 'Brandonstad',\n",
        "                      'pais': 'Myanmar', 'clicou_no_ad': 0\n",
        "                     },\n",
        "                     {'tempo_gasto_site': None, 'idade': 48, 'renda_area': 24593.33,\n",
        "                      'tempo_gasto_internet': 131.76, 'cidade': 'Port Jefferybury',\n",
        "                      'pais': 'Australia','clicou_no_ad': 1\n",
        "                     },\n",
        "                     {'tempo_gasto_site': 74.53, 'idade': 30, 'renda_area': 68862.00,\n",
        "                      'tempo_gasto_internet': 221.51, 'cidade': 'West Colin',\n",
        "                      'pais': 'Grenada'},\n",
        "                     {'tempo_gasto_site': 69.88, 'idade': 20, 'renda_area': 55642.32,\n",
        "                      'tempo_gasto_internet': 183.82, 'cidade': 'Ramirezton',\n",
        "                      'pais': 'Ghana', 'clicou_no_ad': 0  \n",
        "                     }\n",
        "]"
      ],
      "execution_count": 4,
      "outputs": []
    },
    {
      "cell_type": "code",
      "metadata": {
        "id": "PmYJ8815EpPv"
      },
      "source": [
        "for dado_de_usuario in propaganda_online:\n",
        "  print(dado_de_usuario)"
      ],
      "execution_count": null,
      "outputs": []
    },
    {
      "cell_type": "code",
      "metadata": {
        "colab": {
          "base_uri": "https://localhost:8080/"
        },
        "id": "cw4PlLK4TiJ7",
        "outputId": "3624a239-369d-40b1-b84b-a940dfd39dba"
      },
      "source": [
        "paises = []\n",
        "for dado_de_usuario in propaganda_online:\n",
        "  if dado_de_usuario['idade'] > 30:\n",
        "    paises.append(dado_de_usuario['pais'])\n",
        "print(paises)"
      ],
      "execution_count": 7,
      "outputs": [
        {
          "output_type": "stream",
          "name": "stdout",
          "text": [
            "['Tunisia', 'Nauru', 'IceLand', 'Myanmar', 'Australia']\n"
          ]
        }
      ]
    },
    {
      "cell_type": "code",
      "metadata": {
        "colab": {
          "base_uri": "https://localhost:8080/"
        },
        "id": "4OOQMqPPyvfe",
        "outputId": "48f3a2a9-dafc-4cf0-f69f-2f1521bb4e08"
      },
      "source": [
        "leads = []\n",
        "for dado_de_usuario in propaganda_online:\n",
        "  try:\n",
        "    if dado_de_usuario['clicou_no_ad'] > 0:\n",
        "      leads.append(dado_de_usuario['renda_area'])\n",
        "  except KeyError:\n",
        "    continue\n",
        "print(leads)"
      ],
      "execution_count": 8,
      "outputs": [
        {
          "output_type": "stream",
          "name": "stdout",
          "text": [
            "[24593.33]\n"
          ]
        }
      ]
    },
    {
      "cell_type": "code",
      "metadata": {
        "colab": {
          "base_uri": "https://localhost:8080/"
        },
        "id": "dMIcJmsTu4-o",
        "outputId": "e9f52ca4-4adb-4467-c565-2e84a5599cd5"
      },
      "source": [
        "cidades = []\n",
        "for dado_de_usuario in propaganda_online:\n",
        "  try:\n",
        "    if dado_de_usuario['tempo_gasto_site'] > 70:\n",
        "      cidades.append(dado_de_usuario['cidade'])\n",
        "  except TypeError:\n",
        "    continue\n",
        "print(cidades)"
      ],
      "execution_count": 10,
      "outputs": [
        {
          "output_type": "stream",
          "name": "stdout",
          "text": [
            "['West Jodi', 'Brandonstad', 'West Colin']\n"
          ]
        }
      ]
    }
  ]
}